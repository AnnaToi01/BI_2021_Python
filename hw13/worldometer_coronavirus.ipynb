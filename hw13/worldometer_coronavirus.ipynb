{
 "cells": [
  {
   "cell_type": "markdown",
   "id": "192bbbd1",
   "metadata": {},
   "source": [
    "# HW13 - Worldometers Coronavirus"
   ]
  },
  {
   "cell_type": "markdown",
   "id": "5cac92e3",
   "metadata": {},
   "source": [
    "Importing libraries:"
   ]
  },
  {
   "cell_type": "code",
   "execution_count": 8,
   "id": "44772bac",
   "metadata": {},
   "outputs": [],
   "source": [
    "from bs4 import BeautifulSoup\n",
    "import requests\n",
    "import numpy as np\n",
    "import sqlite3\n",
    "import pandas as pd"
   ]
  },
  {
   "cell_type": "markdown",
   "id": "83ed25ae",
   "metadata": {},
   "source": [
    "Getting the website HTML and finding the table with the countries:"
   ]
  },
  {
   "cell_type": "code",
   "execution_count": 2,
   "id": "f6a7928f",
   "metadata": {},
   "outputs": [],
   "source": [
    "source = requests.get(\"https://www.worldometers.info/coronavirus/\").text\n",
    "\n",
    "soup = BeautifulSoup(source, 'lxml')\n",
    "table = soup.find(\"table\", id=\"main_table_countries_today\" )"
   ]
  },
  {
   "cell_type": "code",
   "execution_count": 161,
   "id": "6f6dcf66",
   "metadata": {},
   "outputs": [
    {
     "data": {
      "text/plain": [
       "bs4.element.Tag"
      ]
     },
     "execution_count": 161,
     "metadata": {},
     "output_type": "execute_result"
    }
   ],
   "source": [
    "type(table)"
   ]
  },
  {
   "cell_type": "markdown",
   "id": "0cc724d1",
   "metadata": {},
   "source": [
    "First, we get nicely formatted headers:"
   ]
  },
  {
   "cell_type": "code",
   "execution_count": 4,
   "id": "00d740f9",
   "metadata": {},
   "outputs": [
    {
     "data": {
      "text/plain": [
       "['#',\n",
       " 'Country,_Other',\n",
       " 'Total_Cases',\n",
       " 'New_Cases',\n",
       " 'Total_Deaths',\n",
       " 'New_Deaths',\n",
       " 'Total_Recovered',\n",
       " 'New_Recovered',\n",
       " 'Active_Cases',\n",
       " 'Serious,_Critical',\n",
       " 'Tot._Cases/_1M_pop',\n",
       " 'Deaths/_1M_pop',\n",
       " 'Total_Tests',\n",
       " 'Tests/_1M_pop',\n",
       " 'Population',\n",
       " 'Continent']"
      ]
     },
     "execution_count": 4,
     "metadata": {},
     "output_type": "execute_result"
    }
   ],
   "source": [
    "# Getting the headers\n",
    "col_names = []\n",
    "for i in table.find_all(\"th\"):\n",
    "    col_names.append(\"_\".join(i.get_text(strip=True, separator=\"\\n\").replace(\" \", \"_\").splitlines()))\n",
    "\n",
    "# Correcting some reading error\n",
    "col_names[col_names.index('Tot\\xa0Cases/_1M_pop')] = 'Tot._Cases/_1M_pop'\n",
    "# There are some remnant column names in the end...\n",
    "col_names = col_names[:-6]"
   ]
  },
  {
   "cell_type": "code",
   "execution_count": 11,
   "id": "e46a2426",
   "metadata": {},
   "outputs": [],
   "source": [
    "def pd_to_sql(pd_df, path_to_db):\n",
    "    \n",
    "    # Creating connection and database\n",
    "    con = sqlite3.connect(path_to_db)\n",
    "    \n",
    "    with con:\n",
    "        # Converting pd dataframe to SQL\n",
    "        pd_df.to_sql(name=path_to_db, con=con, if_exists='replace', index = False) # one could also append here"
   ]
  },
  {
   "cell_type": "code",
   "execution_count": 6,
   "id": "c9ed3ded",
   "metadata": {},
   "outputs": [],
   "source": [
    "# Index\n",
    "ind = 0\n",
    "\n",
    "# List of dictionaries corresponding to the continents\n",
    "data_cont = []\n",
    "for i in table.find_all(\"tr\", class_=\"total_row_world\"):\n",
    "    # Numerating from 1\n",
    "    ind += 1\n",
    "    # Separating the text in the row\n",
    "    dt = i.text.strip().split(\"\\n\")\n",
    "    # Continent name\n",
    "    continent = dt[0]\n",
    "    # Creating a dictionary from the rest of the values\n",
    "    dic_inf = dict(zip(col_names[2:], dt[2:]))\n",
    "    # Trying to convert all the numbers to integers\n",
    "    for key, value in dic_inf.items():\n",
    "        try:\n",
    "            dic_inf[key] = int(value.replace(\",\", \"\"))\n",
    "        except ValueError:\n",
    "            pass\n",
    "    # Encompassing dictionary for each row\n",
    "    dic = {\n",
    "        \"#\": ind,\n",
    "        \"Continent,Other\": continent,\n",
    "        **dic_inf\n",
    "    }\n",
    "    data_cont.append(dic)\n"
   ]
  },
  {
   "cell_type": "code",
   "execution_count": 9,
   "id": "919159a7",
   "metadata": {},
   "outputs": [
    {
     "data": {
      "text/html": [
       "<div>\n",
       "<style scoped>\n",
       "    .dataframe tbody tr th:only-of-type {\n",
       "        vertical-align: middle;\n",
       "    }\n",
       "\n",
       "    .dataframe tbody tr th {\n",
       "        vertical-align: top;\n",
       "    }\n",
       "\n",
       "    .dataframe thead th {\n",
       "        text-align: right;\n",
       "    }\n",
       "</style>\n",
       "<table border=\"1\" class=\"dataframe\">\n",
       "  <thead>\n",
       "    <tr style=\"text-align: right;\">\n",
       "      <th></th>\n",
       "      <th>Continent,Other</th>\n",
       "      <th>Total_Cases</th>\n",
       "      <th>New_Cases</th>\n",
       "      <th>Total_Deaths</th>\n",
       "      <th>New_Deaths</th>\n",
       "      <th>Total_Recovered</th>\n",
       "      <th>New_Recovered</th>\n",
       "      <th>Active_Cases</th>\n",
       "      <th>Serious,_Critical</th>\n",
       "      <th>Tot._Cases/_1M_pop</th>\n",
       "      <th>Deaths/_1M_pop</th>\n",
       "      <th>Total_Tests</th>\n",
       "      <th>Tests/_1M_pop</th>\n",
       "      <th>Population</th>\n",
       "      <th>Continent</th>\n",
       "    </tr>\n",
       "    <tr>\n",
       "      <th>#</th>\n",
       "      <th></th>\n",
       "      <th></th>\n",
       "      <th></th>\n",
       "      <th></th>\n",
       "      <th></th>\n",
       "      <th></th>\n",
       "      <th></th>\n",
       "      <th></th>\n",
       "      <th></th>\n",
       "      <th></th>\n",
       "      <th></th>\n",
       "      <th></th>\n",
       "      <th></th>\n",
       "      <th></th>\n",
       "      <th></th>\n",
       "    </tr>\n",
       "  </thead>\n",
       "  <tbody>\n",
       "    <tr>\n",
       "      <th>1</th>\n",
       "      <td>North America</td>\n",
       "      <td>95872928</td>\n",
       "      <td>6060</td>\n",
       "      <td>1427708</td>\n",
       "      <td>244</td>\n",
       "      <td>69510210</td>\n",
       "      <td>5878</td>\n",
       "      <td>24935010.0</td>\n",
       "      <td>9437.0</td>\n",
       "      <td></td>\n",
       "      <td></td>\n",
       "      <td></td>\n",
       "      <td></td>\n",
       "      <td></td>\n",
       "      <td>North America</td>\n",
       "    </tr>\n",
       "    <tr>\n",
       "      <th>2</th>\n",
       "      <td>Asia</td>\n",
       "      <td>129601984</td>\n",
       "      <td>726095</td>\n",
       "      <td>1378818</td>\n",
       "      <td>1171</td>\n",
       "      <td>113874613</td>\n",
       "      <td>134429</td>\n",
       "      <td>14348553.0</td>\n",
       "      <td>28530.0</td>\n",
       "      <td></td>\n",
       "      <td></td>\n",
       "      <td></td>\n",
       "      <td></td>\n",
       "      <td></td>\n",
       "      <td>Asia</td>\n",
       "    </tr>\n",
       "    <tr>\n",
       "      <th>3</th>\n",
       "      <td>South America</td>\n",
       "      <td>55419552</td>\n",
       "      <td>32</td>\n",
       "      <td>1269479</td>\n",
       "      <td></td>\n",
       "      <td>50459110</td>\n",
       "      <td></td>\n",
       "      <td>3690963.0</td>\n",
       "      <td>12309.0</td>\n",
       "      <td></td>\n",
       "      <td></td>\n",
       "      <td></td>\n",
       "      <td></td>\n",
       "      <td></td>\n",
       "      <td>South America</td>\n",
       "    </tr>\n",
       "    <tr>\n",
       "      <th>4</th>\n",
       "      <td>Europe</td>\n",
       "      <td>167715318</td>\n",
       "      <td>225466</td>\n",
       "      <td>1746866</td>\n",
       "      <td>1113</td>\n",
       "      <td>148535948</td>\n",
       "      <td>475852</td>\n",
       "      <td>17432504.0</td>\n",
       "      <td>11632.0</td>\n",
       "      <td></td>\n",
       "      <td></td>\n",
       "      <td></td>\n",
       "      <td></td>\n",
       "      <td></td>\n",
       "      <td>Europe</td>\n",
       "    </tr>\n",
       "    <tr>\n",
       "      <th>5</th>\n",
       "      <td>Oceania</td>\n",
       "      <td>4463110</td>\n",
       "      <td>72397</td>\n",
       "      <td>8378</td>\n",
       "      <td>37</td>\n",
       "      <td>3852697</td>\n",
       "      <td>17676</td>\n",
       "      <td>602035.0</td>\n",
       "      <td>151.0</td>\n",
       "      <td></td>\n",
       "      <td></td>\n",
       "      <td></td>\n",
       "      <td></td>\n",
       "      <td></td>\n",
       "      <td>Australia/Oceania</td>\n",
       "    </tr>\n",
       "    <tr>\n",
       "      <th>6</th>\n",
       "      <td>Africa</td>\n",
       "      <td>11649905</td>\n",
       "      <td>568</td>\n",
       "      <td>251870</td>\n",
       "      <td>5</td>\n",
       "      <td>10814082</td>\n",
       "      <td>1649</td>\n",
       "      <td>583953.0</td>\n",
       "      <td>1506.0</td>\n",
       "      <td></td>\n",
       "      <td></td>\n",
       "      <td></td>\n",
       "      <td></td>\n",
       "      <td></td>\n",
       "      <td>Africa</td>\n",
       "    </tr>\n",
       "    <tr>\n",
       "      <th>7</th>\n",
       "      <td>World</td>\n",
       "      <td>1030618</td>\n",
       "      <td>6083134</td>\n",
       "      <td>2570</td>\n",
       "      <td>397047366</td>\n",
       "      <td>635461</td>\n",
       "      <td>61593018</td>\n",
       "      <td>63565.0</td>\n",
       "      <td>59620.0</td>\n",
       "      <td>780.4</td>\n",
       "      <td></td>\n",
       "      <td></td>\n",
       "      <td></td>\n",
       "      <td>All</td>\n",
       "      <td>NaN</td>\n",
       "    </tr>\n",
       "  </tbody>\n",
       "</table>\n",
       "</div>"
      ],
      "text/plain": [
       "  Continent,Other  Total_Cases New_Cases  Total_Deaths New_Deaths  \\\n",
       "#                                                                   \n",
       "1   North America     95872928      6060       1427708        244   \n",
       "2            Asia    129601984    726095       1378818       1171   \n",
       "3   South America     55419552        32       1269479              \n",
       "4          Europe    167715318    225466       1746866       1113   \n",
       "5         Oceania      4463110     72397          8378         37   \n",
       "6          Africa     11649905       568        251870          5   \n",
       "7           World      1030618   6083134          2570  397047366   \n",
       "\n",
       "   Total_Recovered New_Recovered  Active_Cases  Serious,_Critical  \\\n",
       "#                                                                   \n",
       "1         69510210          5878    24935010.0             9437.0   \n",
       "2        113874613        134429    14348553.0            28530.0   \n",
       "3         50459110                   3690963.0            12309.0   \n",
       "4        148535948        475852    17432504.0            11632.0   \n",
       "5          3852697         17676      602035.0              151.0   \n",
       "6         10814082          1649      583953.0             1506.0   \n",
       "7           635461      61593018       63565.0            59620.0   \n",
       "\n",
       "  Tot._Cases/_1M_pop Deaths/_1M_pop Total_Tests Tests/_1M_pop Population  \\\n",
       "#                                                                          \n",
       "1                                                                          \n",
       "2                                                                          \n",
       "3                                                                          \n",
       "4                                                                          \n",
       "5                                                                          \n",
       "6                                                                          \n",
       "7              780.4                                                 All   \n",
       "\n",
       "           Continent  \n",
       "#                     \n",
       "1      North America  \n",
       "2               Asia  \n",
       "3      South America  \n",
       "4             Europe  \n",
       "5  Australia/Oceania  \n",
       "6             Africa  \n",
       "7                NaN  "
      ]
     },
     "execution_count": 9,
     "metadata": {},
     "output_type": "execute_result"
    }
   ],
   "source": [
    "# Dropping one random weird row (7)\n",
    "cont = pd.DataFrame(data_cont).set_index(\"#\").drop(7)\n",
    "\n",
    "# Reindexing as on the website\n",
    "cont.index = np.arange(1, len(cont) + 1)\n",
    "cont.index.name = \"#\""
   ]
  },
  {
   "cell_type": "code",
   "execution_count": 12,
   "id": "58dc523c",
   "metadata": {},
   "outputs": [],
   "source": [
    "#Creating databases\n",
    "\n",
    "pd_to_sql(cont, \"cont.db\")"
   ]
  },
  {
   "cell_type": "code",
   "execution_count": 19,
   "id": "53c9e3b5",
   "metadata": {},
   "outputs": [],
   "source": [
    "ind = 0\n",
    "country_data = []\n",
    "for i in table.tbody.find_all(\"tr\")[8:]:\n",
    "    ind += 1\n",
    "    dt = i.text.strip().split(\"\\n\")\n",
    "    continent = dt[1]\n",
    "    dic_inf = dict(zip(col_names[2:], dt[2:]))\n",
    "    for key, value in dic_inf.items():\n",
    "        try:\n",
    "            dic_inf[key] = int(value.replace(\",\", \"\"))\n",
    "        except ValueError:\n",
    "            pass\n",
    "    dic = {\n",
    "        \"#\": ind,\n",
    "        \"Country,Other\": continent,\n",
    "        **dic_inf\n",
    "    }\n",
    "    \n",
    "    country_data.append(dic)"
   ]
  },
  {
   "cell_type": "code",
   "execution_count": 20,
   "id": "ecb36dcd",
   "metadata": {},
   "outputs": [],
   "source": [
    "country = pd.DataFrame(country_data).set_index(\"#\")\n",
    "pd_to_sql(country, \"country.db\")"
   ]
  },
  {
   "cell_type": "markdown",
   "id": "faa30646",
   "metadata": {},
   "source": [
    "## Creating a Class to handle a new country that could be inserted"
   ]
  },
  {
   "cell_type": "code",
   "execution_count": 66,
   "id": "50d4778a",
   "metadata": {},
   "outputs": [],
   "source": [
    "class COVID_Country:\n",
    "    \"\"\"A Sample COVID_Country Class for COVID statistics\n",
    "    It can be used to create a new object, country, and add it to the table\n",
    "    \"\"\"\n",
    "\n",
    "    def __init__(self, country, total_cases, new_cases, total_deaths, new_deaths, total_recovered, new_recovered,\n",
    "                 active_cases, ser_cr, cas_p_mil, death_p_mil, tot_test, test_p_mil, pop, continent):\n",
    "        \"\"\"\n",
    "        Initiating the class\n",
    "        @param country: str, country\n",
    "        @param total_cases: int, total cases\n",
    "        @param new_cases: int, new cases\n",
    "        @param total_deaths: int, total deaths\n",
    "        @param new_deaths: int, new deaths\n",
    "        @param total_recovered: int, total recovered\n",
    "        @param new_recovered: int, new, recovered\n",
    "        @param active_cases: int, active cases\n",
    "        @param ser_cr: int, serious or critical cases\n",
    "        @param cas_p_mil: int, cases per million\n",
    "        @param death_p_mil: int, deaths per million\n",
    "        @param tot_test: int, total tests\n",
    "        @param test_p_mil: int, tests per million\n",
    "        @param pop: int, population size\n",
    "        @param continent: str, continent of the country\n",
    "        \"\"\"\n",
    "        self.country = country\n",
    "        self.total_cases = total_cases\n",
    "        self.new_cases = new_cases\n",
    "        self.total_deaths = total_deaths\n",
    "        self.new_deaths = new_deaths\n",
    "        self.total_recovered = total_recovered\n",
    "        self.new_recovered = new_recovered\n",
    "        self.active_cases = active_cases\n",
    "        self.ser_cr = ser_cr\n",
    "        self.cas_p_mil = cas_p_mil\n",
    "        self.death_p_mil = death_p_mil\n",
    "        self.tot_test = tot_test\n",
    "        self.test_p_mil = test_p_mil\n",
    "        self.pop = pop\n",
    "        self.continent = continent\n",
    "\n",
    "    def __repr__(self):\n",
    "        \"\"\"\n",
    "        Class representation when printed\n",
    "        @return: None\n",
    "        \"\"\"\n",
    "        return f\"Country {self.country} with total cases of {self.total_cases} and population of {self.pop}\"\n"
   ]
  },
  {
   "cell_type": "code",
   "execution_count": 67,
   "id": "64923cc3",
   "metadata": {},
   "outputs": [],
   "source": [
    "utopia = COVID_Country(\"utopia\", 0, 0, 0, 0, 0, 0, 0, 0, 0, 0, 0, 0, 3500000, \"dreams\")"
   ]
  },
  {
   "cell_type": "markdown",
   "id": "39fc05e3",
   "metadata": {},
   "source": [
    "## Creating some functions to play with the database"
   ]
  },
  {
   "cell_type": "code",
   "execution_count": 69,
   "id": "2ba7ea49",
   "metadata": {},
   "outputs": [],
   "source": [
    "def insert_country(country):\n",
    "    \"\"\"\n",
    "    Inserts a new COVID_Country object into the database\n",
    "    @param country: COVID_Country object\n",
    "    @return: None\n",
    "    \"\"\"\n",
    "    con = sqlite3.connect(\"country.db\")\n",
    "    cur = con.cursor()\n",
    "    with con:\n",
    "        query = \"INSERT INTO `country.db` VALUES (\" +(\"?,\"*15)[:-1] + \")\"\n",
    "        cur.execute(query, tuple(country.__dict__.values()))"
   ]
  },
  {
   "cell_type": "code",
   "execution_count": 171,
   "id": "e93d9684",
   "metadata": {},
   "outputs": [
    {
     "name": "stdout",
     "output_type": "stream",
     "text": [
      "INSERT INTO `country.db` VALUES (?,?,?,?,?,?,?,?,?,?,?,?,?,?,?)\n"
     ]
    }
   ],
   "source": [
    "insert_country(utopia)"
   ]
  },
  {
   "cell_type": "code",
   "execution_count": 165,
   "id": "6a3cab83",
   "metadata": {},
   "outputs": [],
   "source": [
    "def get_stat_by_country(country_name, col_names):\n",
    "    \"\"\"\n",
    "    Gets statistics (row) about the country of the choice\n",
    "    @param country_name: str, name of the country\n",
    "    @param col_names: , list of column names\n",
    "    @return: list, statistics about the country\n",
    "    \"\"\"\n",
    "    con = sqlite3.connect(\"country.db\")\n",
    "    cur = con.cursor()\n",
    "    with con:\n",
    "        query = \"SELECT * FROM `country.db` WHERE `Country,Other`=:country\"\n",
    "        cur.execute(query, {'country': country_name})\n",
    "        stat_dic = dict(zip(col_names, *cur.fetchall()))\n",
    "        return stat_dic"
   ]
  },
  {
   "cell_type": "code",
   "execution_count": 166,
   "id": "092a780c",
   "metadata": {
    "scrolled": true
   },
   "outputs": [
    {
     "data": {
      "text/plain": [
       "{'#': 'Georgia',\n",
       " 'Country,_Other': 1639678,\n",
       " 'Total_Cases': '888',\n",
       " 'New_Cases': '16612',\n",
       " 'Total_Deaths': '17',\n",
       " 'New_Deaths': '1594011',\n",
       " 'Total_Recovered': '2831',\n",
       " 'New_Recovered': '29055',\n",
       " 'Active_Cases': '',\n",
       " 'Serious,_Critical': 412380.0,\n",
       " 'Tot._Cases/_1M_pop': '4178',\n",
       " 'Deaths/_1M_pop': '16142347',\n",
       " 'Total_Tests': '4059807',\n",
       " 'Tests/_1M_pop': 3976137.0,\n",
       " 'Population': 'Europe'}"
      ]
     },
     "execution_count": 166,
     "metadata": {},
     "output_type": "execute_result"
    }
   ],
   "source": [
    "get_stat_by_country(\"Georgia\", col_names)"
   ]
  },
  {
   "cell_type": "code",
   "execution_count": 167,
   "id": "386a47f6",
   "metadata": {},
   "outputs": [],
   "source": [
    "def update_continent(country_name, continent):\n",
    "    \"\"\"\n",
    "    Changing the continent of a country\n",
    "    @param country_name: str, name of the country\n",
    "    @param continent: str, name of the continent\n",
    "    @return: None\n",
    "    \"\"\"\n",
    "    con = sqlite3.connect(\"country.db\")\n",
    "    cur = con.cursor()\n",
    "    with con:\n",
    "        query = \"\"\"\n",
    "        UPDATE `country.db` SET Continent = :continent\n",
    "        WHERE `Country,Other`=:country\n",
    "        \"\"\"\n",
    "        cur.execute(query, {'country': country_name, 'continent': continent})\n"
   ]
  },
  {
   "cell_type": "code",
   "execution_count": 168,
   "id": "81dc76f3",
   "metadata": {},
   "outputs": [],
   "source": [
    "update_continent(\"Georgia\", \"Europe\")"
   ]
  },
  {
   "cell_type": "code",
   "execution_count": 169,
   "id": "9f68a057",
   "metadata": {},
   "outputs": [],
   "source": [
    "def update_total_count(country_name, new_cases):\n",
    "    \"\"\"\n",
    "    Updates total count of cases and new cases\n",
    "    @param country_name: str, name of the country\n",
    "    @param new_cases: int, number of the new cases\n",
    "    @return: None\n",
    "    \"\"\"\n",
    "    con = sqlite3.connect(\"country.db\")\n",
    "    cur = con.cursor()\n",
    "    with con:\n",
    "        query = \"\"\"\n",
    "        UPDATE `country.db` \n",
    "        SET \n",
    "            Total_Cases = Total_Cases + :new_cases,\n",
    "            New_Cases = :new_cases\n",
    "        WHERE\n",
    "            `Country,Other` = :country\n",
    "        \"\"\"\n",
    "        cur.execute(query, {'country': country_name, 'new_cases': new_cases})\n"
   ]
  },
  {
   "cell_type": "code",
   "execution_count": 173,
   "id": "884134ca",
   "metadata": {},
   "outputs": [],
   "source": [
    "update_total_count('utopia', 1)\n"
   ]
  },
  {
   "cell_type": "code",
   "execution_count": 176,
   "id": "50bce238",
   "metadata": {},
   "outputs": [],
   "source": [
    "def max_tot_count_country_on_cont():\n",
    "    \"\"\"\n",
    "    Returns a list of countries with maximal total count on a continent/undefined\n",
    "    @return: list\n",
    "    \"\"\"\n",
    "    con = sqlite3.connect(\"country.db\")\n",
    "    cur = con.cursor()\n",
    "    with con:\n",
    "        query = \"\"\"\n",
    "        SELECT Continent, `Country,Other`, Total_Cases, New_Cases, `Tot._Cases/_1M_pop`, Population\n",
    "        FROM `country.db`\n",
    "        GROUP BY Continent\n",
    "        ORDER BY Total_Cases DESC\n",
    "        \"\"\"\n",
    "        cur.execute(query)\n",
    "        return cur.fetchall()"
   ]
  },
  {
   "cell_type": "code",
   "execution_count": 177,
   "id": "4b7eb797",
   "metadata": {},
   "outputs": [
    {
     "data": {
      "text/plain": [
       "[('North America', 'USA', 81289602, '', 243160.0, 334305317.0),\n",
       " ('Asia', 'India', 43001477, '', 30648.0, 1403087655.0),\n",
       " ('South America', 'Brazil', 29478039, '', 137024.0, 215130305.0),\n",
       " ('Europe', 'France', 23758447, '', 362618.0, 65519286.0),\n",
       " ('Australia/Oceania', 'Australia', 3767956, '52341', 144903.0, 26003221.0),\n",
       " ('Africa', 'South Africa', 3698803, '', 61056.0, 60580760.0),\n",
       " (None, 'Diamond Princess', 712, '', None, None),\n",
       " ('dreams', 'utopia', 2, '1', 0.0, 3500000.0)]"
      ]
     },
     "execution_count": 177,
     "metadata": {},
     "output_type": "execute_result"
    }
   ],
   "source": [
    "max_tot_count_country_on_cont()"
   ]
  },
  {
   "cell_type": "code",
   "execution_count": 159,
   "id": "46097256",
   "metadata": {},
   "outputs": [],
   "source": [
    "def count_country_per_continent():\n",
    "    \"\"\"\n",
    "    Returns a list of tuples with count of countries on each continent\n",
    "     - (count_of_countries, continent)\n",
    "    @return: list, list of (count_of_countries, continent)\n",
    "    \"\"\"\n",
    "    con = sqlite3.connect(\"country.db\")\n",
    "    cur = con.cursor()\n",
    "    with con:\n",
    "        query=\"\"\"\n",
    "        SELECT COUNT(`Country,Other`), Continent\n",
    "        FROM `country.db`\n",
    "        GROUP BY Continent\n",
    "        \"\"\"\n",
    "        cur.execute(query)\n",
    "        return cur.fetchall()"
   ]
  },
  {
   "cell_type": "code",
   "execution_count": 160,
   "id": "f807fe07",
   "metadata": {},
   "outputs": [
    {
     "data": {
      "text/plain": [
       "[(2, None),\n",
       " (58, 'Africa'),\n",
       " (48, 'Asia'),\n",
       " (17, 'Australia/Oceania'),\n",
       " (49, 'Europe'),\n",
       " (39, 'North America'),\n",
       " (14, 'South America')]"
      ]
     },
     "execution_count": 160,
     "metadata": {},
     "output_type": "execute_result"
    }
   ],
   "source": [
    "count_country_per_continent()"
   ]
  },
  {
   "cell_type": "code",
   "execution_count": 112,
   "id": "ff266055",
   "metadata": {},
   "outputs": [],
   "source": [
    "def remove_country(country_name):\n",
    "    \"\"\"\n",
    "    Removes a country\n",
    "    @param country_name: str, name of the country\n",
    "    @return: None\n",
    "    \"\"\"\n",
    "    con = sqlite3.connect(\"country.db\")\n",
    "    cur = con.cursor()\n",
    "    with con:\n",
    "        query = \"\"\"\n",
    "        DELETE from `country.db`\n",
    "        WHERE \n",
    "            `Country,Other` = :country\n",
    "        \"\"\"\n",
    "        cur.execute(query, {\"country\": country_name})"
   ]
  },
  {
   "cell_type": "code",
   "execution_count": 114,
   "id": "2223181d",
   "metadata": {},
   "outputs": [],
   "source": [
    "remove_country(\"utopia\")"
   ]
  }
 ],
 "metadata": {
  "kernelspec": {
   "display_name": "Python 3",
   "language": "python",
   "name": "python3"
  },
  "language_info": {
   "codemirror_mode": {
    "name": "ipython",
    "version": 3
   },
   "file_extension": ".py",
   "mimetype": "text/x-python",
   "name": "python",
   "nbconvert_exporter": "python",
   "pygments_lexer": "ipython3",
   "version": "3.8.8"
  }
 },
 "nbformat": 4,
 "nbformat_minor": 5
}
